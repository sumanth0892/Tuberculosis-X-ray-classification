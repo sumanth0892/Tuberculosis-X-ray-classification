{
 "cells": [
  {
   "cell_type": "code",
   "execution_count": 1,
   "metadata": {},
   "outputs": [],
   "source": [
    "#Import the first set of libraries\n",
    "import os\n",
    "import cv2\n",
    "import numpy as np\n",
    "import scipy as sp\n",
    "import getData as gD\n",
    "from keras.models import Sequential \n",
    "from keras.layers import (Conv2D,MaxPooling2D,Activation)\n",
    "from keras.optimizers import Adam"
   ]
  },
  {
   "cell_type": "code",
   "execution_count": null,
   "metadata": {},
   "outputs": [],
   "source": [
    "trainDir = '/Users/computer/Documents/xRayDataset/CXR_png/'\n",
    "testDir = '/Users/computer/Documents/xRayDataset/test/'\n",
    "labelDir = '/Users/computer/Documents/xRayDataset/ClinicalReadings/'\n",
    "x_train = gD.getImages(trainDir)\n",
    "y_train = gD.getLabels(labelDir)\n",
    "x_test = gD.getTestData(testDir)"
   ]
  },
  {
   "cell_type": "code",
   "execution_count": null,
   "metadata": {},
   "outputs": [],
   "source": [
    "#Build the Neural Network"
   ]
  }
 ],
 "metadata": {
  "kernelspec": {
   "display_name": "Python 3",
   "language": "python",
   "name": "python3"
  },
  "language_info": {
   "codemirror_mode": {
    "name": "ipython",
    "version": 3
   },
   "file_extension": ".py",
   "mimetype": "text/x-python",
   "name": "python",
   "nbconvert_exporter": "python",
   "pygments_lexer": "ipython3",
   "version": "3.7.6"
  }
 },
 "nbformat": 4,
 "nbformat_minor": 4
}
