{
 "cells": [
  {
   "cell_type": "code",
   "execution_count": 5,
   "metadata": {},
   "outputs": [],
   "source": [
    "#Import the first set of libraries\n",
    "import os\n",
    "import cv2\n",
    "import numpy as np\n",
    "import scipy as sp\n",
    "import getData as gD\n",
    "from keras.models import Sequential \n",
    "from keras.layers import (Conv2D,MaxPooling2D,Activation,Flatten,Dense)\n",
    "from keras.optimizers import Adam"
   ]
  },
  {
   "cell_type": "code",
   "execution_count": 7,
   "metadata": {},
   "outputs": [
    {
     "name": "stdout",
     "output_type": "stream",
     "text": [
      "(800, 256, 256, 1)\n",
      "(800,)\n"
     ]
    }
   ],
   "source": [
    "trainDir = '/Users/computer/Documents/xRayDataset/CXR_png/'\n",
    "testDir = '/Users/computer/Documents/xRayDataset/test/'\n",
    "labelDir = '/Users/computer/Documents/xRayDataset/ClinicalReadings/'\n",
    "x_train = gD.getImages(trainDir)\n",
    "y_train = gD.getLabels(labelDir)\n",
    "#x_test = gD.getTestData(testDir)\n",
    "print(x_train.shape)\n",
    "print(y_train.shape)\n",
    "y_train = np.reshape(y_train,(len(y_train),1))"
   ]
  },
  {
   "cell_type": "code",
   "execution_count": 11,
   "metadata": {},
   "outputs": [
    {
     "name": "stdout",
     "output_type": "stream",
     "text": [
      "Model: \"sequential_4\"\n",
      "_________________________________________________________________\n",
      "Layer (type)                 Output Shape              Param #   \n",
      "=================================================================\n",
      "conv2d_10 (Conv2D)           (None, 128, 128, 64)      640       \n",
      "_________________________________________________________________\n",
      "max_pooling2d_7 (MaxPooling2 (None, 64, 64, 64)        0         \n",
      "_________________________________________________________________\n",
      "conv2d_11 (Conv2D)           (None, 32, 32, 32)        18464     \n",
      "_________________________________________________________________\n",
      "max_pooling2d_8 (MaxPooling2 (None, 16, 16, 32)        0         \n",
      "_________________________________________________________________\n",
      "conv2d_12 (Conv2D)           (None, 8, 8, 32)          9248      \n",
      "_________________________________________________________________\n",
      "flatten_4 (Flatten)          (None, 2048)              0         \n",
      "_________________________________________________________________\n",
      "dense_7 (Dense)              (None, 64)                131136    \n",
      "_________________________________________________________________\n",
      "dense_8 (Dense)              (None, 1)                 65        \n",
      "=================================================================\n",
      "Total params: 159,553\n",
      "Trainable params: 159,553\n",
      "Non-trainable params: 0\n",
      "_________________________________________________________________\n"
     ]
    }
   ],
   "source": [
    "#Build the Neural Network\n",
    "model = Sequential()\n",
    "model.add(Conv2D(64,kernel_size = 3,activation = 'relu',strides = 2,input_shape = (256,256,1),padding = 'same'))\n",
    "model.add(MaxPooling2D((2,2)))\n",
    "model.add(Conv2D(32,kernel_size = 3,activation = 'relu',strides = 2,padding = 'same'))\n",
    "model.add(MaxPooling2D((2,2)))\n",
    "model.add(Conv2D(32,kernel_size = 3,activation = 'relu',strides = 2,padding = 'same'))\n",
    "model.add(Flatten())\n",
    "model.add(Dense(64,activation = 'relu'))\n",
    "model.add(Dense(1,activation = 'sigmoid'))\n",
    "model.compile(loss = 'binary_crossentropy',optimizer = Adam(),metrics = ['accuracy'])\n",
    "model.summary()"
   ]
  },
  {
   "cell_type": "code",
   "execution_count": 10,
   "metadata": {},
   "outputs": [
    {
     "name": "stdout",
     "output_type": "stream",
     "text": [
      "Train on 640 samples, validate on 160 samples\n",
      "Epoch 1/15\n",
      " - 12s - loss: 0.3719 - accuracy: 0.8516 - val_loss: 0.0298 - val_accuracy: 0.9875\n",
      "Epoch 2/15\n",
      " - 13s - loss: 0.3570 - accuracy: 0.8687 - val_loss: 0.0431 - val_accuracy: 0.9875\n",
      "Epoch 3/15\n",
      " - 13s - loss: 0.3422 - accuracy: 0.8609 - val_loss: 0.0409 - val_accuracy: 0.9875\n",
      "Epoch 4/15\n",
      " - 13s - loss: 0.3542 - accuracy: 0.8531 - val_loss: 0.0130 - val_accuracy: 0.9937\n",
      "Epoch 5/15\n",
      " - 13s - loss: 0.3613 - accuracy: 0.8438 - val_loss: 0.0284 - val_accuracy: 0.9875\n",
      "Epoch 6/15\n",
      " - 13s - loss: 0.3232 - accuracy: 0.8656 - val_loss: 0.0199 - val_accuracy: 0.9937\n",
      "Epoch 7/15\n",
      " - 13s - loss: 0.3095 - accuracy: 0.8719 - val_loss: 0.0260 - val_accuracy: 0.9937\n",
      "Epoch 8/15\n",
      " - 12s - loss: 0.3167 - accuracy: 0.8672 - val_loss: 0.0700 - val_accuracy: 0.9688\n",
      "Epoch 9/15\n",
      " - 13s - loss: 0.3019 - accuracy: 0.8813 - val_loss: 0.0839 - val_accuracy: 0.9625\n",
      "Epoch 10/15\n",
      " - 13s - loss: 0.3080 - accuracy: 0.8828 - val_loss: 0.0641 - val_accuracy: 0.9688\n",
      "Epoch 11/15\n",
      " - 13s - loss: 0.2741 - accuracy: 0.8953 - val_loss: 0.0431 - val_accuracy: 0.9812\n",
      "Epoch 12/15\n",
      " - 14s - loss: 0.2830 - accuracy: 0.8938 - val_loss: 0.0319 - val_accuracy: 0.9937\n",
      "Epoch 13/15\n",
      " - 13s - loss: 0.2521 - accuracy: 0.9094 - val_loss: 0.0614 - val_accuracy: 0.9625\n",
      "Epoch 14/15\n",
      " - 13s - loss: 0.2562 - accuracy: 0.9031 - val_loss: 0.0232 - val_accuracy: 0.9875\n",
      "Epoch 15/15\n",
      " - 16s - loss: 0.2606 - accuracy: 0.8891 - val_loss: 0.0291 - val_accuracy: 0.9875\n"
     ]
    }
   ],
   "source": [
    "#Fit the model in a direct fit\n",
    "history = model.fit(x_train,y_train,epochs = 15,validation_split = 0.2,batch_size = 32,verbose = 2)\n",
    "x_test = gD.getTestData(testDir)\n",
    "#preds = model.predict(x_test)\n",
    "\n"
   ]
  },
  {
   "cell_type": "markdown",
   "metadata": {},
   "source": [
    "Next, let's employ k-fold cross validation since the number of images we have is less, just 800 training images\n",
    "and 96 test images. "
   ]
  },
  {
   "cell_type": "code",
   "execution_count": null,
   "metadata": {},
   "outputs": [],
   "source": []
  }
 ],
 "metadata": {
  "kernelspec": {
   "display_name": "Python 3",
   "language": "python",
   "name": "python3"
  },
  "language_info": {
   "codemirror_mode": {
    "name": "ipython",
    "version": 3
   },
   "file_extension": ".py",
   "mimetype": "text/x-python",
   "name": "python",
   "nbconvert_exporter": "python",
   "pygments_lexer": "ipython3",
   "version": "3.7.6"
  }
 },
 "nbformat": 4,
 "nbformat_minor": 4
}
