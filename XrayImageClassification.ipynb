{
 "cells": [
  {
   "cell_type": "code",
   "execution_count": 1,
   "metadata": {},
   "outputs": [
    {
     "name": "stderr",
     "output_type": "stream",
     "text": [
      "Using TensorFlow backend.\n"
     ]
    }
   ],
   "source": [
    "#Import the first set of libraries\n",
    "import os\n",
    "import cv2\n",
    "import numpy as np\n",
    "import scipy as sp\n",
    "import getData as gD\n",
    "import unetkeras as uk\n",
    "from keras.models import Sequential \n",
    "from keras.layers import (Conv2D,MaxPooling2D,Activation,Flatten,Dense,Dropout)\n",
    "from keras.optimizers import Adam"
   ]
  },
  {
   "cell_type": "code",
   "execution_count": null,
   "metadata": {},
   "outputs": [],
   "source": [
    "trainDir = '/Users/computer/Documents/xRayDataset/trainingSet/'\n",
    "testDir = '/Users/computer/Documents/xRayDataset/testingSet/'\n",
    "x_train,Y1,Y2 = gD.trainingData(trainDir,512) #Y2 is the binary labels and Y1 are the masks/segmented images.\n",
    "x_test,y_test = gD.getTestData(testDir,512)\n",
    "print(x_train.shape)\n",
    "print(Y1.shape)\n",
    "print(Y2.shape)\n",
    "print(x_test.shape)\n",
    "print(y_test.shape)"
   ]
  },
  {
   "cell_type": "code",
   "execution_count": null,
   "metadata": {},
   "outputs": [],
   "source": [
    "#Build a simple Neural Network and train it the regular way\n",
    "model = Sequential()\n",
    "model.add(Conv2D(256,kernel_size = 3,activation = 'relu',strides = 2,input_shape = (512,512,1),padding = 'same'))\n",
    "model.add(MaxPooling2D((2,2)))\n",
    "model.add(Conv2D(128,kernel_size = 3,activation = 'relu',strides = 2,padding = 'same'))\n",
    "model.add(MaxPooling2D((2,2)))\n",
    "model.add(Conv2D(128,kernel_size = 3,activation = 'relu',strides = 2,padding = 'same'))\n",
    "model.add(MaxPooling2D((2,2)))\n",
    "model.add(Flatten())\n",
    "model.add(Dense(64,activation = 'relu'))\n",
    "model.add(Dense(1,activation = 'sigmoid'))\n",
    "model.compile(loss = 'binary_crossentropy',optimizer = 'rmsprop',metrics = ['accuracy'])\n",
    "model.summary()"
   ]
  },
  {
   "cell_type": "code",
   "execution_count": 4,
   "metadata": {},
   "outputs": [
    {
     "name": "stdout",
     "output_type": "stream",
     "text": [
      "Train on 563 samples, validate on 141 samples\n",
      "Epoch 1/10\n",
      " - 242s - loss: 0.7481 - accuracy: 0.5471 - val_loss: 1.6639 - val_accuracy: 0.4326\n",
      "Epoch 2/10\n",
      " - 234s - loss: 0.6523 - accuracy: 0.7389 - val_loss: 0.7517 - val_accuracy: 0.5035\n",
      "Epoch 3/10\n"
     ]
    },
    {
     "name": "stderr",
     "output_type": "stream",
     "text": [
      "WARNING: Logging before flag parsing goes to stderr.\n",
      "E0530 21:49:41.952898 4545959360 ultratb.py:152] Internal Python error in the inspect module.\n",
      "Below is the traceback from this internal error.\n",
      "\n"
     ]
    },
    {
     "name": "stdout",
     "output_type": "stream",
     "text": [
      "Traceback (most recent call last):\n",
      "  File \"/usr/local/lib/python3.7/site-packages/IPython/core/interactiveshell.py\", line 3331, in run_code\n",
      "    exec(code_obj, self.user_global_ns, self.user_ns)\n",
      "  File \"<ipython-input-4-90a28488315e>\", line 2, in <module>\n",
      "    history = model.fit(images,labels,epochs = 10,validation_split = 0.2,batch_size = 32,verbose = 2)\n",
      "  File \"/usr/local/lib/python3.7/site-packages/keras/engine/training.py\", line 1239, in fit\n",
      "    validation_freq=validation_freq)\n",
      "  File \"/usr/local/lib/python3.7/site-packages/keras/engine/training_arrays.py\", line 196, in fit_loop\n",
      "    outs = fit_function(ins_batch)\n",
      "  File \"/usr/local/lib/python3.7/site-packages/tensorflow/python/keras/backend.py\", line 3792, in __call__\n",
      "    outputs = self._graph_fn(*converted_inputs)\n",
      "  File \"/usr/local/lib/python3.7/site-packages/tensorflow/python/eager/function.py\", line 1605, in __call__\n",
      "    return self._call_impl(args, kwargs)\n",
      "  File \"/usr/local/lib/python3.7/site-packages/tensorflow/python/eager/function.py\", line 1645, in _call_impl\n",
      "    return self._call_flat(args, self.captured_inputs, cancellation_manager)\n",
      "  File \"/usr/local/lib/python3.7/site-packages/tensorflow/python/eager/function.py\", line 1746, in _call_flat\n",
      "    ctx, args, cancellation_manager=cancellation_manager))\n",
      "  File \"/usr/local/lib/python3.7/site-packages/tensorflow/python/eager/function.py\", line 598, in call\n",
      "    ctx=ctx)\n",
      "  File \"/usr/local/lib/python3.7/site-packages/tensorflow/python/eager/execute.py\", line 60, in quick_execute\n",
      "    inputs, attrs, num_outputs)\n",
      "KeyboardInterrupt\n",
      "\n",
      "During handling of the above exception, another exception occurred:\n",
      "\n",
      "Traceback (most recent call last):\n",
      "  File \"/usr/local/lib/python3.7/site-packages/IPython/core/interactiveshell.py\", line 2044, in showtraceback\n",
      "    stb = value._render_traceback_()\n",
      "AttributeError: 'KeyboardInterrupt' object has no attribute '_render_traceback_'\n",
      "\n",
      "During handling of the above exception, another exception occurred:\n",
      "\n",
      "Traceback (most recent call last):\n",
      "  File \"/usr/local/lib/python3.7/site-packages/IPython/core/ultratb.py\", line 1148, in get_records\n",
      "    return _fixed_getinnerframes(etb, number_of_lines_of_context, tb_offset)\n",
      "  File \"/usr/local/lib/python3.7/site-packages/IPython/core/ultratb.py\", line 316, in wrapped\n",
      "    return f(*args, **kwargs)\n",
      "  File \"/usr/local/lib/python3.7/site-packages/IPython/core/ultratb.py\", line 350, in _fixed_getinnerframes\n",
      "    records = fix_frame_records_filenames(inspect.getinnerframes(etb, context))\n",
      "  File \"/usr/local/Cellar/python/3.7.6_1/Frameworks/Python.framework/Versions/3.7/lib/python3.7/inspect.py\", line 1502, in getinnerframes\n",
      "    frameinfo = (tb.tb_frame,) + getframeinfo(tb, context)\n",
      "  File \"/usr/local/Cellar/python/3.7.6_1/Frameworks/Python.framework/Versions/3.7/lib/python3.7/inspect.py\", line 1460, in getframeinfo\n",
      "    filename = getsourcefile(frame) or getfile(frame)\n",
      "  File \"/usr/local/Cellar/python/3.7.6_1/Frameworks/Python.framework/Versions/3.7/lib/python3.7/inspect.py\", line 696, in getsourcefile\n",
      "    if getattr(getmodule(object, filename), '__loader__', None) is not None:\n",
      "  File \"/usr/local/Cellar/python/3.7.6_1/Frameworks/Python.framework/Versions/3.7/lib/python3.7/inspect.py\", line 739, in getmodule\n",
      "    f = getabsfile(module)\n",
      "  File \"/usr/local/Cellar/python/3.7.6_1/Frameworks/Python.framework/Versions/3.7/lib/python3.7/inspect.py\", line 708, in getabsfile\n",
      "    _filename = getsourcefile(object) or getfile(object)\n",
      "  File \"/usr/local/Cellar/python/3.7.6_1/Frameworks/Python.framework/Versions/3.7/lib/python3.7/inspect.py\", line 693, in getsourcefile\n",
      "    if os.path.exists(filename):\n",
      "  File \"/usr/local/Cellar/python/3.7.6_1/Frameworks/Python.framework/Versions/3.7/lib/python3.7/genericpath.py\", line 19, in exists\n",
      "    os.stat(path)\n",
      "KeyboardInterrupt\n"
     ]
    },
    {
     "ename": "KeyboardInterrupt",
     "evalue": "",
     "output_type": "error",
     "traceback": [
      "\u001b[0;31m---------------------------------------------------------------------------\u001b[0m"
     ]
    }
   ],
   "source": [
    "#Fit the model in a direct fit\n",
    "nEpochs = 50\n",
    "history = model.fit(x_train,Y2,epochs = nEpochs,validation_split = 0.2,batch_size = 32,verbose = 2)\n",
    "lossDirect = history.history['loss']\n",
    "#x_test = gD.getTestData(testDir,newSize)\n",
    "#preds = model.predict(x_test)\n"
   ]
  },
  {
   "cell_type": "markdown",
   "metadata": {},
   "source": [
    "Next, let's employ K-fold cross-validation since the number of images we have is less, just 704 training images\n",
    "and 96 test images. The model used in k-fold is the same one as in direct training before moving on to Unet image \n",
    "segmentation and creating masks. The targets or training labels are the masks given and the testing set can remain the same "
   ]
  },
  {
   "cell_type": "code",
   "execution_count": null,
   "metadata": {},
   "outputs": [],
   "source": [
    "def getModel(inShape):\n",
    "    #inShape is the input shape of the image\n",
    "    #Define a function to get the model\n",
    "    model = Sequential()\n",
    "    model.add(Conv2D(256,kernel_size = 3,activation = 'relu',strides = 2,input_shape = inShape,padding = 'same'))\n",
    "    model.add(MaxPooling2D((2,2)))\n",
    "    model.add(Conv2D(128,kernel_size = 3,activation = 'relu',strides = 2,padding = 'same'))\n",
    "    model.add(MaxPooling2D((2,2)))\n",
    "    model.add(Conv2D(128,kernel_size = 3,activation = 'relu',strides = 2,padding = 'same'))\n",
    "    model.add(MaxPooling2D((2,2)))\n",
    "    model.add(Flatten())\n",
    "    model.add(Dense(64,activation = 'relu'))\n",
    "    model.add(Dense(1,activation = 'sigmoid'))\n",
    "    model.compile(loss = 'binary_crossentropy',optimizer = 'rmsprop',metrics = ['accuracy'])\n",
    "    model.summary()\n",
    "    return model\n",
    "_,m,n,o = x_train.shape"
   ]
  },
  {
   "cell_type": "code",
   "execution_count": null,
   "metadata": {},
   "outputs": [],
   "source": [
    "#K-fold validation training \n",
    "#Choose a value for k \n",
    "k = 5\n",
    "nValSamples = len(x_train)//k\n",
    "nEpochs = 50\n",
    "accuracy_scores = []; lossKfold = []\n",
    "for i in range(k):\n",
    "    print(\"Processing fold #\",i)\n",
    "    valData = x_train[i*nValSamples:(i+1)*nValSamples]\n",
    "    valTargets = Y2[i*nValSamples:(i+1)*nValSamples]\n",
    "    trainingData = np.concatenate(\n",
    "                    [x_train[:i*nValSamples],x_train[(i+1)*nValSamples:]],axis = 0)\n",
    "    trainingLabels = np.concatenate(\n",
    "                    [Y2[:i*nValSamples],Y2[(i+1)*nValSamples:]],axis = 0)\n",
    "    model = getModel((m,n,o))\n",
    "    history = model.fit(trainingData,trainingLabels,epochs = nEpochs,batch_size = 16,verbose = 0,\n",
    "                       validation_data = (valData,valTargets))\n",
    "    accuracy_scores.append(history.history['accuracy'])\n",
    "    lossKfold.append(history.history['loss'])"
   ]
  },
  {
   "cell_type": "markdown",
   "metadata": {},
   "source": [
    "The third way to train is by employing a Unet, which is used for image segmentation and quite popular in medical\n",
    "imaging and deep learning. "
   ]
  },
  {
   "cell_type": "code",
   "execution_count": null,
   "metadata": {},
   "outputs": [],
   "source": [
    "from sklearn.model_selection import train_test_split\n",
    "model = uk.getModel((m,n,o))\n",
    "model.summary()\n",
    "X_train,X_test,Y_train,Y_test = train_test_split(x_train,Y1,test_size = 0.2,random_state = 42)\n",
    "history = model.fit(X_train,Y_train,batch_size = 16,epochs = nEpochs,validation_data = (X_test,Y_test))\n",
    "uNetLoss = history.history['loss']"
   ]
  }
 ],
 "metadata": {
  "kernelspec": {
   "display_name": "Python 3",
   "language": "python",
   "name": "python3"
  },
  "language_info": {
   "codemirror_mode": {
    "name": "ipython",
    "version": 3
   },
   "file_extension": ".py",
   "mimetype": "text/x-python",
   "name": "python",
   "nbconvert_exporter": "python",
   "pygments_lexer": "ipython3",
   "version": "3.7.6"
  }
 },
 "nbformat": 4,
 "nbformat_minor": 4
}
