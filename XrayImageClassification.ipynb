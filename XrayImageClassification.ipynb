{
 "cells": [
  {
   "cell_type": "code",
   "execution_count": 1,
   "metadata": {},
   "outputs": [],
   "source": [
    "#Import the first set of libraries\n",
    "import os\n",
    "import cv2\n",
    "import numpy as np\n",
    "import scipy as sp"
   ]
  },
  {
   "cell_type": "code",
   "execution_count": null,
   "metadata": {},
   "outputs": [],
   "source": [
    "#Read the images in the dataset \n",
    "baseDir = '/Users/computer/Documents/xRayDataset/CXR_png/'\n",
    "#Initialize an n-dimensional array to store the images as floating arrays\n",
    "dataSet = np.ndarray(shape = (800,3200,3200),dtype = np.float32) #You can also use 4800*4800\n",
    "#Read the images in an order and store them so that it becomes easier to train later\n",
    "i = 0 #Keep count of the images in the folder\n",
    "for fileName in sorted(os.listdir(baseDir)):\n",
    "    file = baseDir + fileName \n",
    "    img = cv2.imread(file,0) #Read the grayscale image since the images themselves are in Black and White\n",
    "    reSized = cv2.resize(img,(3200,3200),interpolation = cv2.INTER_NEAREST)\n",
    "    dataSet[i] = reSized\n",
    "    i += 1\n",
    "x_train = (np.reshape(dataSet,(800,3200,3200,1)))/255.0\n",
    "print(x_train.shape)\n",
    "del dataSet"
   ]
  },
  {
   "cell_type": "code",
   "execution_count": null,
   "metadata": {},
   "outputs": [],
   "source": []
  }
 ],
 "metadata": {
  "kernelspec": {
   "display_name": "Python 3",
   "language": "python",
   "name": "python3"
  },
  "language_info": {
   "codemirror_mode": {
    "name": "ipython",
    "version": 3
   },
   "file_extension": ".py",
   "mimetype": "text/x-python",
   "name": "python",
   "nbconvert_exporter": "python",
   "pygments_lexer": "ipython3",
   "version": "3.7.6"
  }
 },
 "nbformat": 4,
 "nbformat_minor": 4
}
